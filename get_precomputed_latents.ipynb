{
 "cells": [
  {
   "cell_type": "code",
   "execution_count": 1,
   "metadata": {},
   "outputs": [
    {
     "name": "stdout",
     "output_type": "stream",
     "text": [
      "Using matplotlib as 2D backend.\n"
     ]
    }
   ],
   "source": [
    "import mne\n",
    "mne.viz.set_browser_backend(\"matplotlib\")\n",
    "# mne.viz.set_3d_backend(\"notebook\")\n",
    "from matplotlib import pyplot as plt\n",
    "%config InlineBackend.figure_format='retina'\n",
    "import numpy as np\n",
    "import pandas as pd\n",
    "from mne_bids import BIDSPath, read_raw_bids\n",
    "from itertools import product\n",
    "from tqdm import tqdm\n",
    "import os"
   ]
  },
  {
   "cell_type": "code",
   "execution_count": 2,
   "metadata": {},
   "outputs": [],
   "source": [
    "data_dir = '/mnt/sphere/projects/image_decoding_from_brain/THINGS-MEG-raw/download'\n",
    "subject_file = data_dir + '/participants.tsv'\n",
    "subjects = pd.read_csv(subject_file, sep=\"\\t\")\n",
    "def get_subject_id(x):\n",
    "    return x.split(\"-\")[1]  # noqa\n",
    "subjects = subjects.participant_id.apply(get_subject_id).values\n",
    "subject = subjects[0]\n",
    "tasks = ['main']\n",
    "sessions = ['{:02d}'.format(x) for x in range(1,13)]  # 2 recording sessions\n",
    "runs = ['{:02d}'.format(x) for x in range(1,11)]"
   ]
  },
  {
   "cell_type": "code",
   "execution_count": 3,
   "metadata": {},
   "outputs": [
    {
     "name": "stdout",
     "output_type": "stream",
     "text": [
      "Loading CLIP-vision...\n"
     ]
    }
   ],
   "source": [
    "print('Loading CLIP-vision...')"
   ]
  },
  {
   "cell_type": "code",
   "execution_count": 4,
   "metadata": {},
   "outputs": [],
   "source": [
    "clip_vision = np.load('/mnt/sphere/projects/image_decoding_from_brain/data/extracted_features/things_clipvision.npy', mmap_mode='r')"
   ]
  },
  {
   "cell_type": "code",
   "execution_count": 5,
   "metadata": {},
   "outputs": [
    {
     "name": "stdout",
     "output_type": "stream",
     "text": [
      "CLIP-vision shape:  (26107, 257, 768)\n"
     ]
    }
   ],
   "source": [
    "print('CLIP-vision shape: ', clip_vision.shape)"
   ]
  },
  {
   "cell_type": "code",
   "execution_count": 6,
   "metadata": {},
   "outputs": [
    {
     "name": "stderr",
     "output_type": "stream",
     "text": [
      "Processing subject BIGMEG1:  29%|██▉       | 35/120 [00:28<00:53,  1.58it/s]"
     ]
    },
    {
     "name": "stdout",
     "output_type": "stream",
     "text": [
      "image_id 26106 is found in events_df\n"
     ]
    },
    {
     "name": "stderr",
     "output_type": "stream",
     "text": [
      "Processing subject BIGMEG1: 100%|██████████| 120/120 [01:31<00:00,  1.31it/s]\n"
     ]
    }
   ],
   "source": [
    "for session, task, run in tqdm(product(sessions, tasks, runs), total=len(sessions)*len(tasks)*len(runs), desc=f'Processing subject {subject}'):\n",
    "    bids_path = BIDSPath(\n",
    "        subject=subject,\n",
    "        session=session,\n",
    "        task=task,\n",
    "        root=data_dir,\n",
    "        run = run,\n",
    "        datatype=\"meg\",\n",
    "    )\n",
    "    raw = read_raw_bids(bids_path, verbose='ERROR')\n",
    "    # break\n",
    "    events = list()\n",
    "    for annot in raw.annotations:\n",
    "        # event = eval(annot.pop(\"description\"))\n",
    "        event = dict()\n",
    "        event['kind'] = annot['description'].split('/')[0]\n",
    "        if annot['description'].split('/')[0] != 'catch':\n",
    "            event['image_id'] = annot['description'].split('/')[1]\n",
    "        else:\n",
    "            event['image_id'] = '-1' # catch trials, maybe we should change this\n",
    "        event['start'] = annot['onset']\n",
    "        event['duration'] = annot['duration']\n",
    "        events.append(event)\n",
    "    events_df = pd.DataFrame(events)\n",
    "    # train_events_df = events_df[events_df['kind'] == 'exp']\n",
    "    # test_events_df = events_df[events_df['kind'] == 'test']\n",
    "    # train_image_ids = pd.to_numeric(train_events_df['image_id']).astype(int).to_numpy()\n",
    "    # test_image_ids = pd.to_numeric(test_events_df['image_id']).astype(int).to_numpy()\n",
    "    # if train_clip_vision is None:\n",
    "    #     train_clip_vision = clip_vision[train_image_ids]\n",
    "    #     test_clip_vision = clip_vision[test_image_ids]\n",
    "    # else:\n",
    "    #     train_clip_vision = np.concatenate((train_clip_vision, clip_vision[train_image_ids]), axis=0)\n",
    "    #     test_clip_vision = np.concatenate((test_clip_vision, clip_vision[test_image_ids]), axis=0)\n",
    "    if 0 in pd.to_numeric(events_df['image_id']).astype(int).to_numpy():\n",
    "        print('image_id 0 is found in events_df')\n",
    "    if 26106 in pd.to_numeric(events_df['image_id']).astype(int).to_numpy():\n",
    "        print('image_id 26106 is found in events_df')"
   ]
  },
  {
   "cell_type": "code",
   "execution_count": null,
   "metadata": {},
   "outputs": [],
   "source": [
    "# save_dir = 'cache/extracted_embeddings/' + subject + '/'\n",
    "# if not os.path.exists(save_dir):\n",
    "#     os.makedirs(save_dir)\n",
    "# np.save(save_dir + f'train_clipvision_sub-{subject}.npy', train_clip_vision)\n",
    "# np.save(save_dir + f'test_clipvision_sub-{subject}.npy', test_clip_vision)"
   ]
  },
  {
   "cell_type": "code",
   "execution_count": 6,
   "metadata": {},
   "outputs": [],
   "source": [
    "events = list()\n",
    "for annot in raw.annotations:\n",
    "    # event = eval(annot.pop(\"description\"))\n",
    "    event = dict()\n",
    "    event['kind'] = annot['description'].split('/')[0]\n",
    "    if annot['description'].split('/')[0] != 'catch':\n",
    "        event['image_id'] = annot['description'].split('/')[1]\n",
    "    else:\n",
    "        event['image_id'] = '-1' # catch trials, maybe we should change this\n",
    "    event['start'] = annot['onset']\n",
    "    event['duration'] = annot['duration']\n",
    "    events.append(event)"
   ]
  },
  {
   "cell_type": "code",
   "execution_count": 7,
   "metadata": {},
   "outputs": [],
   "source": [
    "events_df = pd.DataFrame(events)\n",
    "train_events_df = events_df[events_df['kind'] == 'exp']\n",
    "test_events_df = events_df[events_df['kind'] == 'test']\n",
    "train_image_ids = pd.to_numeric(train_events_df['image_id']).astype(int).to_numpy()\n",
    "test_image_ids = pd.to_numeric(test_events_df['image_id']).astype(int).to_numpy()\n",
    "image_ids = pd.to_numeric(events_df['image_id']).astype(int).to_numpy()\n",
    "# events_df"
   ]
  },
  {
   "cell_type": "code",
   "execution_count": 23,
   "metadata": {},
   "outputs": [
    {
     "data": {
      "text/plain": [
       "(26107, 257, 768)"
      ]
     },
     "execution_count": 23,
     "metadata": {},
     "output_type": "execute_result"
    }
   ],
   "source": [
    "clip_vision.shape"
   ]
  },
  {
   "cell_type": "code",
   "execution_count": 8,
   "metadata": {},
   "outputs": [
    {
     "data": {
      "text/plain": [
       "(226, 257, 768)"
      ]
     },
     "execution_count": 8,
     "metadata": {},
     "output_type": "execute_result"
    }
   ],
   "source": [
    "clip_vision[image_ids].shape"
   ]
  },
  {
   "cell_type": "code",
   "execution_count": 25,
   "metadata": {},
   "outputs": [],
   "source": [
    "abc = np.ones((26107,2,1))"
   ]
  },
  {
   "cell_type": "code",
   "execution_count": 26,
   "metadata": {},
   "outputs": [
    {
     "data": {
      "text/plain": [
       "(226, 2, 1)"
      ]
     },
     "execution_count": 26,
     "metadata": {},
     "output_type": "execute_result"
    }
   ],
   "source": [
    "abc[image_ids].shape"
   ]
  },
  {
   "cell_type": "code",
   "execution_count": 17,
   "metadata": {},
   "outputs": [
    {
     "data": {
      "text/plain": [
       "False"
      ]
     },
     "execution_count": 17,
     "metadata": {},
     "output_type": "execute_result"
    }
   ],
   "source": [
    "0 in pd.to_numeric(events_df['image_id']).astype(int).to_numpy()"
   ]
  },
  {
   "cell_type": "code",
   "execution_count": 12,
   "metadata": {},
   "outputs": [
    {
     "data": {
      "text/html": [
       "<div>\n",
       "<style scoped>\n",
       "    .dataframe tbody tr th:only-of-type {\n",
       "        vertical-align: middle;\n",
       "    }\n",
       "\n",
       "    .dataframe tbody tr th {\n",
       "        vertical-align: top;\n",
       "    }\n",
       "\n",
       "    .dataframe thead th {\n",
       "        text-align: right;\n",
       "    }\n",
       "</style>\n",
       "<table border=\"1\" class=\"dataframe\">\n",
       "  <thead>\n",
       "    <tr style=\"text-align: right;\">\n",
       "      <th></th>\n",
       "      <th>0</th>\n",
       "    </tr>\n",
       "  </thead>\n",
       "  <tbody>\n",
       "    <tr>\n",
       "      <th>0</th>\n",
       "      <td>images/aardvark/aardvark_01b.jpg</td>\n",
       "    </tr>\n",
       "    <tr>\n",
       "      <th>1</th>\n",
       "      <td>images/aardvark/aardvark_02s.jpg</td>\n",
       "    </tr>\n",
       "    <tr>\n",
       "      <th>2</th>\n",
       "      <td>images/aardvark/aardvark_03s.jpg</td>\n",
       "    </tr>\n",
       "    <tr>\n",
       "      <th>3</th>\n",
       "      <td>images/aardvark/aardvark_04s.jpg</td>\n",
       "    </tr>\n",
       "    <tr>\n",
       "      <th>4</th>\n",
       "      <td>images/aardvark/aardvark_05s.jpg</td>\n",
       "    </tr>\n",
       "    <tr>\n",
       "      <th>...</th>\n",
       "      <td>...</td>\n",
       "    </tr>\n",
       "    <tr>\n",
       "      <th>26102</th>\n",
       "      <td>images/zucchini/zucchini_09s.jpg</td>\n",
       "    </tr>\n",
       "    <tr>\n",
       "      <th>26103</th>\n",
       "      <td>images/zucchini/zucchini_10s.jpg</td>\n",
       "    </tr>\n",
       "    <tr>\n",
       "      <th>26104</th>\n",
       "      <td>images/zucchini/zucchini_11s.jpg</td>\n",
       "    </tr>\n",
       "    <tr>\n",
       "      <th>26105</th>\n",
       "      <td>images/zucchini/zucchini_12s.jpg</td>\n",
       "    </tr>\n",
       "    <tr>\n",
       "      <th>26106</th>\n",
       "      <td>images/zucchini/zucchini_13s.jpg</td>\n",
       "    </tr>\n",
       "  </tbody>\n",
       "</table>\n",
       "<p>26107 rows × 1 columns</p>\n",
       "</div>"
      ],
      "text/plain": [
       "                                      0\n",
       "0      images/aardvark/aardvark_01b.jpg\n",
       "1      images/aardvark/aardvark_02s.jpg\n",
       "2      images/aardvark/aardvark_03s.jpg\n",
       "3      images/aardvark/aardvark_04s.jpg\n",
       "4      images/aardvark/aardvark_05s.jpg\n",
       "...                                 ...\n",
       "26102  images/zucchini/zucchini_09s.jpg\n",
       "26103  images/zucchini/zucchini_10s.jpg\n",
       "26104  images/zucchini/zucchini_11s.jpg\n",
       "26105  images/zucchini/zucchini_12s.jpg\n",
       "26106  images/zucchini/zucchini_13s.jpg\n",
       "\n",
       "[26107 rows x 1 columns]"
      ]
     },
     "execution_count": 12,
     "metadata": {},
     "output_type": "execute_result"
    }
   ],
   "source": [
    "paths_df = pd.read_csv('/mnt/sphere/projects/image_decoding_from_brain/THINGS-images/Metadata/Image-specific/image_paths.csv', header=None)\n",
    "paths_df"
   ]
  }
 ],
 "metadata": {
  "kernelspec": {
   "display_name": "bm",
   "language": "python",
   "name": "python3"
  },
  "language_info": {
   "codemirror_mode": {
    "name": "ipython",
    "version": 3
   },
   "file_extension": ".py",
   "mimetype": "text/x-python",
   "name": "python",
   "nbconvert_exporter": "python",
   "pygments_lexer": "ipython3",
   "version": "3.8.18"
  }
 },
 "nbformat": 4,
 "nbformat_minor": 2
}
