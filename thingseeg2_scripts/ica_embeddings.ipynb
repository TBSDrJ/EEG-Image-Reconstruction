{
 "cells": [
  {
   "cell_type": "code",
   "execution_count": 7,
   "metadata": {},
   "outputs": [],
   "source": [
    "import numpy as np\n",
    "import mne\n",
    "from mne.preprocessing import ICA\n",
    "from matplotlib import pyplot as plt\n",
    "import os"
   ]
  },
  {
   "cell_type": "code",
   "execution_count": 14,
   "metadata": {},
   "outputs": [
    {
     "name": "stdout",
     "output_type": "stream",
     "text": [
      "(16540, 91168) (16540, 77, 768) (16540, 257, 768)\n",
      "(200, 91168) (200, 77, 768) (200, 257, 768)\n",
      "(91168, 16540) (768, 16540) (768, 16540)\n",
      "(91168, 200) (768, 200) (768, 200)\n"
     ]
    }
   ],
   "source": [
    "train_autokl = np.load('../cache/thingseeg2_preproc/extracted_embeddings/train_autokl.npy', mmap_mode='r')\n",
    "train_cliptext = np.load('../cache/thingseeg2_preproc/extracted_embeddings/train_cliptext.npy', mmap_mode='r')\n",
    "train_clipvision = np.load('../cache/thingseeg2_preproc/extracted_embeddings/train_clipvision.npy', mmap_mode='r')\n",
    "test_autokl = np.load('../cache/thingseeg2_preproc/extracted_embeddings/test_autokl.npy', mmap_mode='r')\n",
    "test_cliptext = np.load('../cache/thingseeg2_preproc/extracted_embeddings/test_cliptext.npy', mmap_mode='r')\n",
    "test_clipvision = np.load('../cache/thingseeg2_preproc/extracted_embeddings/test_clipvision.npy', mmap_mode='r')\n",
    "print(train_autokl.shape, train_cliptext.shape, train_clipvision.shape)\n",
    "print(test_autokl.shape, test_cliptext.shape, test_clipvision.shape)\n",
    "# train_autokl = train_autokl[..., np.newaxis]\n",
    "# test_autokl = test_autokl[..., np.newaxis]\n",
    "train_autokl = train_autokl.T\n",
    "test_autokl = test_autokl.T\n",
    "train_cliptext = train_cliptext[:,1].T\n",
    "test_cliptext = test_cliptext[:,1].T\n",
    "train_clipvision = train_clipvision[:,0].T\n",
    "test_clipvision = test_clipvision[:,0].T\n",
    "# train_cliptext = train_cliptext.reshape(train_cliptext.shape[0], -1).T\n",
    "# train_cliptext = train_cliptext[..., np.newaxis]\n",
    "# test_cliptext = test_cliptext.reshape(test_cliptext.shape[0], -1).T\n",
    "# test_cliptext = test_cliptext[..., np.newaxis]\n",
    "# train_clipvision = train_clipvision.reshape(train_clipvision.shape[0], -1).T\n",
    "# train_clipvision = train_clipvision[..., np.newaxis]\n",
    "# test_clipvision = test_clipvision.reshape(test_clipvision.shape[0], -1).T\n",
    "# test_clipvision = test_clipvision[..., np.newaxis]\n",
    "print(train_autokl.shape, train_cliptext.shape, train_clipvision.shape)\n",
    "print(test_autokl.shape, test_cliptext.shape, test_clipvision.shape)"
   ]
  },
  {
   "cell_type": "code",
   "execution_count": 15,
   "metadata": {},
   "outputs": [
    {
     "name": "stdout",
     "output_type": "stream",
     "text": [
      "Creating RawArray with float64 data, n_channels=91168, n_times=16540\n",
      "    Range : 0 ... 16539 =      0.000 ... 16539.000 secs\n",
      "Ready.\n",
      "Creating RawArray with float64 data, n_channels=768, n_times=16540\n",
      "    Range : 0 ... 16539 =      0.000 ... 16539.000 secs\n",
      "Ready.\n",
      "Creating RawArray with float64 data, n_channels=768, n_times=16540\n",
      "    Range : 0 ... 16539 =      0.000 ... 16539.000 secs\n",
      "Ready.\n",
      "Creating RawArray with float64 data, n_channels=91168, n_times=200\n",
      "    Range : 0 ... 199 =      0.000 ...   199.000 secs\n",
      "Ready.\n",
      "Creating RawArray with float64 data, n_channels=768, n_times=200\n",
      "    Range : 0 ... 199 =      0.000 ...   199.000 secs\n",
      "Ready.\n",
      "Creating RawArray with float64 data, n_channels=768, n_times=200\n",
      "    Range : 0 ... 199 =      0.000 ...   199.000 secs\n",
      "Ready.\n"
     ]
    }
   ],
   "source": [
    "autokl_info = mne.create_info(train_autokl.shape[0], 1, 'eeg')\n",
    "cliptext_info = mne.create_info(train_cliptext.shape[0], 1, 'eeg')\n",
    "clipvision_info = mne.create_info(train_clipvision.shape[0], 1, 'eeg')\n",
    "mne_train_autokl = mne.io.RawArray(train_autokl, autokl_info)\n",
    "mne_train_cliptext = mne.io.RawArray(train_cliptext, cliptext_info)\n",
    "mne_train_clipvision = mne.io.RawArray(train_clipvision, clipvision_info)\n",
    "mne_test_autokl = mne.io.RawArray(test_autokl, autokl_info)\n",
    "mne_test_cliptext = mne.io.RawArray(test_cliptext, cliptext_info)\n",
    "mne_test_clipvision = mne.io.RawArray(test_clipvision, clipvision_info)"
   ]
  },
  {
   "cell_type": "code",
   "execution_count": 4,
   "metadata": {},
   "outputs": [],
   "source": [
    "# create ica instance with defined parameters\n",
    "ica = ICA(0.999999, # number of components to extract. Here we use .95 meaning...\n",
    "          # ...'as many as necessary to account for 95% of data variance...\n",
    "          # in a preliminary PCA'\n",
    "          max_iter= 1000, # max iterations allowed for the algorithm\n",
    "          random_state=1, # this is just so you can replicate my results\n",
    "          method = 'infomax', # algorithm used\n",
    "          fit_params=dict(extended = True) # algorithm-specific parameters ...\n",
    "         )                               #...(in this case 'use extended infomax')"
   ]
  },
  {
   "cell_type": "code",
   "execution_count": 5,
   "metadata": {},
   "outputs": [
    {
     "name": "stdout",
     "output_type": "stream",
     "text": [
      "Fitting ICA to data using 768 channels (please be patient, this may take a while)\n"
     ]
    },
    {
     "name": "stderr",
     "output_type": "stream",
     "text": [
      "/tmp/ipykernel_3142077/3099865138.py:2: RuntimeWarning: The data has not been high-pass filtered. For good ICA performance, it should be high-pass filtered (e.g., with a 1.0 Hz lower bound) before fitting ICA.\n",
      "  ica.fit(mne_train_clipvision, # data\n"
     ]
    },
    {
     "name": "stdout",
     "output_type": "stream",
     "text": [
      "Selecting by explained variance: 755 components\n",
      "Computing Extended Infomax ICA\n",
      "Fitting ICA took 905.6s.\n"
     ]
    },
    {
     "data": {
      "text/html": [
       "<table class=\"table table-hover table-striped table-sm table-responsive small\">\n",
       "    <tr>\n",
       "        <th>Method</th>\n",
       "        <td>infomax</td>\n",
       "    </tr>\n",
       "    <tr>\n",
       "        <th>Fit parameters</th>\n",
       "        <td>extended=True<br />max_iter=1000<br /></td>\n",
       "    </tr>\n",
       "    <tr>\n",
       "        <th>Fit</th>\n",
       "        <td>81 iterations on raw data (16540 samples)</td>\n",
       "    </tr>\n",
       "    \n",
       "    <tr>\n",
       "        <th>ICA components</th>\n",
       "        <td>755</td>\n",
       "    </tr>\n",
       "    <tr>\n",
       "        <th>Available PCA components</th>\n",
       "        <td>768</td>\n",
       "    </tr>\n",
       "    <tr>\n",
       "        <th>Channel types</th>\n",
       "        <td>eeg</td>\n",
       "    </tr>\n",
       "    <tr>\n",
       "        <th>ICA components marked for exclusion</th>\n",
       "        <td>&mdash;</td>\n",
       "    </tr>\n",
       "    \n",
       "</table>"
      ],
      "text/plain": [
       "<ICA | raw data decomposition, method: infomax (fit in 81 iterations on 16540 samples), 755 ICA components (768 PCA components available), channel types: eeg, no sources marked for exclusion>"
      ]
     },
     "execution_count": 5,
     "metadata": {},
     "output_type": "execute_result"
    }
   ],
   "source": [
    "# fit ica with the parameters above to the data\n",
    "ica.fit(mne_train_clipvision, # data\n",
    "        picks = 'eeg', # channels to use\n",
    "        # reject = dict(eeg = 300e-6) # threshold to ignore parts of the signal\n",
    "       )"
   ]
  },
  {
   "cell_type": "code",
   "execution_count": 6,
   "metadata": {},
   "outputs": [
    {
     "data": {
      "image/png": "[encoded data removed]",
      "text/plain": [
       "<Figure size 640x480 with 1 Axes>"
      ]
     },
     "metadata": {},
     "output_type": "display_data"
    }
   ],
   "source": [
    "variance_ratios = []\n",
    "variance_explained = []\n",
    "for i in range(1, 755):\n",
    "    variance_ratios.append(ica.get_explained_variance_ratio(mne_test_clipvision, components=list(range(i)))['eeg'])\n",
    "    # variance_explained.append(ica.get_explained_variance_ratio(mne_test_clipvision, components=i-1)['eeg'])\n",
    "# plt.plot(range(1, 755), variance_ratios, marker='o');\n",
    "plt.plot(range(1, 755), variance_ratios);\n",
    "# plt.bar(range(1, 755), variance_explained, alpha=0.5);\n",
    "plt.show();"
   ]
  },
  {
   "cell_type": "code",
   "execution_count": 8,
   "metadata": {},
   "outputs": [
    {
     "name": "stdout",
     "output_type": "stream",
     "text": [
      "Applying ICA to Raw instance\n",
      "    Transforming to ICA space (755 components)\n",
      "    Zeroing out 750 ICA components\n",
      "    Projecting back using 768 PCA components\n",
      "Applying ICA to Raw instance\n",
      "    Transforming to ICA space (755 components)\n",
      "    Zeroing out 745 ICA components\n",
      "    Projecting back using 768 PCA components\n",
      "Applying ICA to Raw instance\n",
      "    Transforming to ICA space (755 components)\n",
      "    Zeroing out 730 ICA components\n",
      "    Projecting back using 768 PCA components\n",
      "Applying ICA to Raw instance\n",
      "    Transforming to ICA space (755 components)\n",
      "    Zeroing out 705 ICA components\n",
      "    Projecting back using 768 PCA components\n",
      "Applying ICA to Raw instance\n",
      "    Transforming to ICA space (755 components)\n",
      "    Zeroing out 655 ICA components\n",
      "    Projecting back using 768 PCA components\n"
     ]
    },
    {
     "data": {
      "text/html": [
       "<details open>\n",
       "    <summary><strong>General</strong></summary>\n",
       "    <table class=\"table table-hover table-striped table-sm table-responsive small\">\n",
       "        <tr>\n",
       "            <th>Measurement date</th>\n",
       "            \n",
       "            <td>Unknown</td>\n",
       "            \n",
       "        </tr>\n",
       "        <tr>\n",
       "            <th>Experimenter</th>\n",
       "            \n",
       "            <td>Unknown</td>\n",
       "            \n",
       "        </tr>\n",
       "        <tr>\n",
       "            <th>Participant</th>\n",
       "            \n",
       "            <td>Unknown</td>\n",
       "            \n",
       "        </tr>\n",
       "    </table>\n",
       "    </details>\n",
       "    <details open>\n",
       "        <summary><strong>Channels</strong></summary>\n",
       "        <table class=\"table table-hover table-striped table-sm table-responsive small\">\n",
       "            <tr>\n",
       "                <th>Digitized points</th>\n",
       "                \n",
       "                <td>Not available</td>\n",
       "                \n",
       "            </tr>\n",
       "            <tr>\n",
       "                <th>Good channels</th>\n",
       "                <td>768 EEG</td>\n",
       "            </tr>\n",
       "            <tr>\n",
       "                <th>Bad channels</th>\n",
       "                <td>None</td>\n",
       "            </tr>\n",
       "            <tr>\n",
       "                <th>EOG channels</th>\n",
       "                <td>Not available</td>\n",
       "            </tr>\n",
       "            <tr>\n",
       "                <th>ECG channels</th>\n",
       "                <td>Not available</td>\n",
       "            </tr>\n",
       "        </table>\n",
       "        </details>\n",
       "        <details open>\n",
       "            <summary><strong>Data</strong></summary>\n",
       "            <table class=\"table table-hover table-striped table-sm table-responsive small\">\n",
       "                \n",
       "                <tr>\n",
       "                    <th>Sampling frequency</th>\n",
       "                    <td>1.00 Hz</td>\n",
       "                </tr>\n",
       "                \n",
       "                \n",
       "                <tr>\n",
       "                    <th>Highpass</th>\n",
       "                    <td>0.00 Hz</td>\n",
       "                </tr>\n",
       "                \n",
       "                \n",
       "                <tr>\n",
       "                    <th>Lowpass</th>\n",
       "                    <td>0.50 Hz</td>\n",
       "                </tr>\n",
       "                \n",
       "                \n",
       "                \n",
       "                \n",
       "                <tr>\n",
       "                    <th>Duration</th>\n",
       "                    <td>00:03:19 (HH:MM:SS)</td>\n",
       "                </tr>\n",
       "                \n",
       "            </table>\n",
       "            </details>"
      ],
      "text/plain": [
       "<RawArray | 768 x 200 (199.0 s), ~1.9 MB, data loaded>"
      ]
     },
     "execution_count": 8,
     "metadata": {},
     "output_type": "execute_result"
    }
   ],
   "source": [
    "mne_cls_5 = mne_test_clipvision.copy()\n",
    "mne_cls_10 = mne_test_clipvision.copy()\n",
    "mne_cls_25 = mne_test_clipvision.copy()\n",
    "mne_cls_50 = mne_test_clipvision.copy()\n",
    "mne_cls_100 = mne_test_clipvision.copy()\n",
    "ica.apply(mne_cls_5, include=list(range(5)))\n",
    "ica.apply(mne_cls_10, include=list(range(10)))\n",
    "ica.apply(mne_cls_25, include=list(range(25)))\n",
    "ica.apply(mne_cls_50, include=list(range(50)))\n",
    "ica.apply(mne_cls_100, include=list(range(100)))"
   ]
  },
  {
   "cell_type": "code",
   "execution_count": 39,
   "metadata": {},
   "outputs": [],
   "source": [
    "dir = '../cache/thingseeg2_synthetic/ica_embeddings'\n",
    "if not os.path.exists(dir):\n",
    "   os.makedirs(dir)\n",
    "np.save(f'{dir}/test_clipvisioncls', np.repeat(test_clipvision[np.newaxis, :], 257, axis=0).transpose((2,0,1)))\n",
    "np.save(f'{dir}/test_clipvisioncls_ica5', np.repeat(mne_cls_5.get_data()[np.newaxis, :], 257, axis=0).transpose((2,0,1)))\n",
    "np.save(f'{dir}/test_clipvisioncls_ica10', np.repeat(mne_cls_10.get_data()[np.newaxis, :], 257, axis=0).transpose((2,0,1)))\n",
    "np.save(f'{dir}/test_clipvisioncls_ica25', np.repeat(mne_cls_25.get_data()[np.newaxis, :], 257, axis=0).transpose((2,0,1)))\n",
    "np.save(f'{dir}/test_clipvisioncls_ica50', np.repeat(mne_cls_50.get_data()[np.newaxis, :], 257, axis=0).transpose((2,0,1)))\n",
    "np.save(f'{dir}/test_clipvisioncls_ica100', np.repeat(mne_cls_100.get_data()[np.newaxis, :], 257, axis=0).transpose((2,0,1)))"
   ]
  },
  {
   "cell_type": "code",
   "execution_count": 38,
   "metadata": {},
   "outputs": [
    {
     "data": {
      "text/plain": [
       "(200, 257, 768)"
      ]
     },
     "execution_count": 38,
     "metadata": {},
     "output_type": "execute_result"
    }
   ],
   "source": [
    "np.repeat(test_clipvision[np.newaxis, :], 257, axis=0).transpose((2,0,1)).shape"
   ]
  },
  {
   "cell_type": "code",
   "execution_count": 12,
   "metadata": {},
   "outputs": [],
   "source": [
    "# create ica instance with defined parameters\n",
    "ica = ICA(0.999999, # number of components to extract. Here we use .95 meaning...\n",
    "          # ...'as many as necessary to account for 95% of data variance...\n",
    "          # in a preliminary PCA'\n",
    "          max_iter= 1000, # max iterations allowed for the algorithm\n",
    "          random_state=1, # this is just so you can replicate my results\n",
    "          method = 'infomax', # algorithm used\n",
    "          fit_params=dict(extended = True) # algorithm-specific parameters ...\n",
    "         )   "
   ]
  },
  {
   "cell_type": "code",
   "execution_count": 16,
   "metadata": {},
   "outputs": [
    {
     "name": "stdout",
     "output_type": "stream",
     "text": [
      "Fitting ICA to data using 768 channels (please be patient, this may take a while)\n"
     ]
    },
    {
     "name": "stderr",
     "output_type": "stream",
     "text": [
      "/tmp/ipykernel_3142077/3116720221.py:2: RuntimeWarning: The data has not been high-pass filtered. For good ICA performance, it should be high-pass filtered (e.g., with a 1.0 Hz lower bound) before fitting ICA.\n",
      "  ica.fit(mne_train_cliptext, # data\n"
     ]
    },
    {
     "name": "stdout",
     "output_type": "stream",
     "text": [
      "Selecting by explained variance: 728 components\n",
      "Computing Extended Infomax ICA\n",
      "Fitting ICA took 456.9s.\n"
     ]
    },
    {
     "data": {
      "text/html": [
       "<table class=\"table table-hover table-striped table-sm table-responsive small\">\n",
       "    <tr>\n",
       "        <th>Method</th>\n",
       "        <td>infomax</td>\n",
       "    </tr>\n",
       "    <tr>\n",
       "        <th>Fit parameters</th>\n",
       "        <td>extended=True<br />max_iter=1000<br /></td>\n",
       "    </tr>\n",
       "    <tr>\n",
       "        <th>Fit</th>\n",
       "        <td>86 iterations on raw data (16540 samples)</td>\n",
       "    </tr>\n",
       "    \n",
       "    <tr>\n",
       "        <th>ICA components</th>\n",
       "        <td>728</td>\n",
       "    </tr>\n",
       "    <tr>\n",
       "        <th>Available PCA components</th>\n",
       "        <td>768</td>\n",
       "    </tr>\n",
       "    <tr>\n",
       "        <th>Channel types</th>\n",
       "        <td>eeg</td>\n",
       "    </tr>\n",
       "    <tr>\n",
       "        <th>ICA components marked for exclusion</th>\n",
       "        <td>&mdash;</td>\n",
       "    </tr>\n",
       "    \n",
       "</table>"
      ],
      "text/plain": [
       "<ICA | raw data decomposition, method: infomax (fit in 86 iterations on 16540 samples), 728 ICA components (768 PCA components available), channel types: eeg, no sources marked for exclusion>"
      ]
     },
     "execution_count": 16,
     "metadata": {},
     "output_type": "execute_result"
    }
   ],
   "source": [
    "# fit ica with the parameters above to the data\n",
    "ica.fit(mne_train_cliptext, # data\n",
    "        picks = 'eeg', # channels to use\n",
    "        # reject = dict(eeg = 300e-6) # threshold to ignore parts of the signal\n",
    "       )"
   ]
  },
  {
   "cell_type": "code",
   "execution_count": 17,
   "metadata": {},
   "outputs": [
    {
     "data": {
      "image/png": "[encoded data removed]",
      "text/plain": [
       "<Figure size 640x480 with 1 Axes>"
      ]
     },
     "metadata": {},
     "output_type": "display_data"
    }
   ],
   "source": [
    "variance_ratios = []\n",
    "variance_explained = []\n",
    "for i in range(1, 728):\n",
    "    variance_ratios.append(ica.get_explained_variance_ratio(mne_test_cliptext, components=list(range(i)))['eeg'])\n",
    "    # variance_explained.append(ica.get_explained_variance_ratio(mne_test_clipvision, components=i-1)['eeg'])\n",
    "# plt.plot(range(1, 755), variance_ratios, marker='o');\n",
    "plt.plot(range(1, 728), variance_ratios);\n",
    "# plt.bar(range(1, 755), variance_explained, alpha=0.5);\n",
    "plt.show();"
   ]
  },
  {
   "cell_type": "code",
   "execution_count": 19,
   "metadata": {},
   "outputs": [
    {
     "data": {
      "text/plain": [
       "[<matplotlib.lines.Line2D at 0x7f53f9b64ee0>]"
      ]
     },
     "execution_count": 19,
     "metadata": {},
     "output_type": "execute_result"
    },
    {
     "data": {
      "image/png": "[encoded data removed]",
      "text/plain": [
       "<Figure size 640x480 with 1 Axes>"
      ]
     },
     "metadata": {},
     "output_type": "display_data"
    }
   ],
   "source": []
  },
  {
   "cell_type": "code",
   "execution_count": 20,
   "metadata": {},
   "outputs": [
    {
     "name": "stdout",
     "output_type": "stream",
     "text": [
      "Applying ICA to Raw instance\n",
      "    Transforming to ICA space (728 components)\n",
      "    Zeroing out 723 ICA components\n",
      "    Projecting back using 768 PCA components\n",
      "Applying ICA to Raw instance\n",
      "    Transforming to ICA space (728 components)\n",
      "    Zeroing out 718 ICA components\n",
      "    Projecting back using 768 PCA components\n",
      "Applying ICA to Raw instance\n",
      "    Transforming to ICA space (728 components)\n",
      "    Zeroing out 703 ICA components\n",
      "    Projecting back using 768 PCA components\n",
      "Applying ICA to Raw instance\n",
      "    Transforming to ICA space (728 components)\n",
      "    Zeroing out 678 ICA components\n",
      "    Projecting back using 768 PCA components\n",
      "Applying ICA to Raw instance\n",
      "    Transforming to ICA space (728 components)\n",
      "    Zeroing out 628 ICA components\n",
      "    Projecting back using 768 PCA components\n"
     ]
    },
    {
     "data": {
      "text/html": [
       "<details open>\n",
       "    <summary><strong>General</strong></summary>\n",
       "    <table class=\"table table-hover table-striped table-sm table-responsive small\">\n",
       "        <tr>\n",
       "            <th>Measurement date</th>\n",
       "            \n",
       "            <td>Unknown</td>\n",
       "            \n",
       "        </tr>\n",
       "        <tr>\n",
       "            <th>Experimenter</th>\n",
       "            \n",
       "            <td>Unknown</td>\n",
       "            \n",
       "        </tr>\n",
       "        <tr>\n",
       "            <th>Participant</th>\n",
       "            \n",
       "            <td>Unknown</td>\n",
       "            \n",
       "        </tr>\n",
       "    </table>\n",
       "    </details>\n",
       "    <details open>\n",
       "        <summary><strong>Channels</strong></summary>\n",
       "        <table class=\"table table-hover table-striped table-sm table-responsive small\">\n",
       "            <tr>\n",
       "                <th>Digitized points</th>\n",
       "                \n",
       "                <td>Not available</td>\n",
       "                \n",
       "            </tr>\n",
       "            <tr>\n",
       "                <th>Good channels</th>\n",
       "                <td>768 EEG</td>\n",
       "            </tr>\n",
       "            <tr>\n",
       "                <th>Bad channels</th>\n",
       "                <td>None</td>\n",
       "            </tr>\n",
       "            <tr>\n",
       "                <th>EOG channels</th>\n",
       "                <td>Not available</td>\n",
       "            </tr>\n",
       "            <tr>\n",
       "                <th>ECG channels</th>\n",
       "                <td>Not available</td>\n",
       "            </tr>\n",
       "        </table>\n",
       "        </details>\n",
       "        <details open>\n",
       "            <summary><strong>Data</strong></summary>\n",
       "            <table class=\"table table-hover table-striped table-sm table-responsive small\">\n",
       "                \n",
       "                <tr>\n",
       "                    <th>Sampling frequency</th>\n",
       "                    <td>1.00 Hz</td>\n",
       "                </tr>\n",
       "                \n",
       "                \n",
       "                <tr>\n",
       "                    <th>Highpass</th>\n",
       "                    <td>0.00 Hz</td>\n",
       "                </tr>\n",
       "                \n",
       "                \n",
       "                <tr>\n",
       "                    <th>Lowpass</th>\n",
       "                    <td>0.50 Hz</td>\n",
       "                </tr>\n",
       "                \n",
       "                \n",
       "                \n",
       "                \n",
       "                <tr>\n",
       "                    <th>Duration</th>\n",
       "                    <td>00:03:19 (HH:MM:SS)</td>\n",
       "                </tr>\n",
       "                \n",
       "            </table>\n",
       "            </details>"
      ],
      "text/plain": [
       "<RawArray | 768 x 200 (199.0 s), ~1.9 MB, data loaded>"
      ]
     },
     "execution_count": 20,
     "metadata": {},
     "output_type": "execute_result"
    }
   ],
   "source": [
    "mne_eos_5 = mne_test_cliptext.copy()\n",
    "mne_eos_10 = mne_test_cliptext.copy()\n",
    "mne_eos_25 = mne_test_cliptext.copy()\n",
    "mne_eos_50 = mne_test_cliptext.copy()\n",
    "mne_eos_100 = mne_test_cliptext.copy()\n",
    "ica.apply(mne_eos_5, include=list(range(5)))\n",
    "ica.apply(mne_eos_10, include=list(range(10)))\n",
    "ica.apply(mne_eos_25, include=list(range(25)))\n",
    "ica.apply(mne_eos_50, include=list(range(50)))\n",
    "ica.apply(mne_eos_100, include=list(range(100)))"
   ]
  },
  {
   "cell_type": "code",
   "execution_count": 37,
   "metadata": {},
   "outputs": [],
   "source": [
    "dir = '../cache/thingseeg2_synthetic/ica_embeddings'\n",
    "if not os.path.exists(dir):\n",
    "   os.makedirs(dir)\n",
    "np.save(f'{dir}/test_cliptexteos', np.repeat(test_cliptext[np.newaxis, :], 77, axis=0).transpose((2,0,1)))\n",
    "np.save(f'{dir}/test_cliptexteos_ica5', np.repeat(mne_eos_5.get_data()[np.newaxis, :], 77, axis=0).transpose((2,0,1)))\n",
    "np.save(f'{dir}/test_cliptexteos_ica10', np.repeat(mne_eos_10.get_data()[np.newaxis, :], 77, axis=0).transpose((2,0,1)))\n",
    "np.save(f'{dir}/test_cliptexteos_ica25', np.repeat(mne_eos_25.get_data()[np.newaxis, :], 77, axis=0).transpose((2,0,1)))\n",
    "np.save(f'{dir}/test_cliptexteos_ica50', np.repeat(mne_eos_50.get_data()[np.newaxis, :], 77, axis=0).transpose((2,0,1)))\n",
    "np.save(f'{dir}/test_cliptexteos_ica100', np.repeat(mne_eos_100.get_data()[np.newaxis, :], 77, axis=0).transpose((2,0,1)))"
   ]
  },
  {
   "cell_type": "code",
   "execution_count": 27,
   "metadata": {},
   "outputs": [
    {
     "data": {
      "text/plain": [
       "(200, 77, 768)"
      ]
     },
     "execution_count": 27,
     "metadata": {},
     "output_type": "execute_result"
    }
   ],
   "source": [
    "np.repeat(mne_eos_5.get_data()[np.newaxis, :], 77, axis=0).transpose((2,0,1)).shape"
   ]
  },
  {
   "cell_type": "code",
   "execution_count": 35,
   "metadata": {},
   "outputs": [
    {
     "data": {
      "text/plain": [
       "(200, 77, 768)"
      ]
     },
     "execution_count": 35,
     "metadata": {},
     "output_type": "execute_result"
    }
   ],
   "source": [
    "np.repeat(test_cliptext[np.newaxis, :], 77, axis=0).transpose((2,0,1)).shape"
   ]
  },
  {
   "cell_type": "code",
   "execution_count": null,
   "metadata": {},
   "outputs": [],
   "source": []
  }
 ],
 "metadata": {
  "kernelspec": {
   "display_name": "bm",
   "language": "python",
   "name": "python3"
  },
  "language_info": {
   "codemirror_mode": {
    "name": "ipython",
    "version": 3
   },
   "file_extension": ".py",
   "mimetype": "text/x-python",
   "name": "python",
   "nbconvert_exporter": "python",
   "pygments_lexer": "ipython3",
   "version": "3.8.18"
  }
 },
 "nbformat": 4,
 "nbformat_minor": 2
}
